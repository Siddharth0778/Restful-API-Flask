{
  "nbformat": 4,
  "nbformat_minor": 0,
  "metadata": {
    "colab": {
      "provenance": []
    },
    "kernelspec": {
      "name": "python3",
      "display_name": "Python 3"
    },
    "language_info": {
      "name": "python"
    }
  },
  "cells": [
    {
      "cell_type": "markdown",
      "source": [
        "# Data Toolkit"
      ],
      "metadata": {
        "id": "6BOH5N23eNNQ"
      }
    },
    {
      "cell_type": "markdown",
      "source": [
        "# Questions"
      ],
      "metadata": {
        "id": "eHYxCJjkeNK4"
      }
    },
    {
      "cell_type": "markdown",
      "source": [
        "Q1. What is a RESTful API?\n",
        "- A RESTful app is a web application that follows the principles of REST (Representational State Transfer), which is an architectural style for designing networked APIs — usually over HTTP.\n",
        "- In simple terms:\n",
        "A RESTful app exposes data and functionality via URLs (endpoints), and clients interact with it using HTTP methods like:\n",
        "  - GET – retrieve data\n",
        "  - POST – create new data\n",
        "  - PUT / PATCH – update data\n",
        "  - DELETE – remove data\n",
        "- Key Principles of REST:\n",
        "  1. Stateless – No client context is stored on the server between requests.\n",
        "  2. Uniform Interface – Standard way to access resources via URLs.\n",
        "  3. Resource-based – Everything is treated as a resource (e.g., /users, /products).\n",
        "  4. Client-Server separation – The frontend (client) and backend (server) are decoupled.\n",
        "  5. Cacheable – Responses can be cached to improve performance.\n",
        "- Tech Used in RESTful Apps (Python):\n",
        "  - Frameworks: Flask, FastAPI, Django REST Framework\n",
        "  - Data Format: Usually JSON\n"
      ],
      "metadata": {
        "id": "LOXIDdMbeNRA"
      }
    },
    {
      "cell_type": "markdown",
      "source": [
        "Q2. Explain the concept of API specification.\n",
        "- An API specification is a detailed blueprint that defines how software components interact via an API (Application Programming Interface).\n",
        "- In Simple Terms:\n",
        "  - An API spec tells developers what an API does, how to use it, what endpoints exist, what data it expects, and what responses it gives back — before writing the actual code.\n",
        "  - Think of it as a contract between:\n",
        "    - the backend team (who builds the API), and\n",
        "    - the frontend/app team (who consumes it)\n",
        "- What Does an API Specification Include?\n",
        "  - Endpoints: The available URLs (e.g., /users, /orders/12)\n",
        "  - Methods: HTTP verbs used (GET, POST, PUT, DELETE)\n",
        "  - Request: format\tWhat data must be sent (query params, headers, body)\n",
        "  - Response: format\tWhat data will be returned (structure, status codes)\n",
        "  - Authentication:\tHow to authorize (e.g., API keys, JWT tokens)\n",
        "  - Error: codes\tWhat errors can occur and their meaning\n",
        "- Popular Specification Standards:\n",
        "  - OpenAPI (Swagger) – Most widely used standard for REST APIs\n",
        "  - RAML – RESTful API Modeling Language\n",
        "  - GraphQL SDL – for GraphQL APIs\n",
        "- Why is an API Specification Important?\n",
        "  - Clear communication between teams\n",
        "  - Automatic documentation (Swagger UI, Redoc)\n",
        "  - Code generation (client/server stubs)\n",
        "  - Validation and testing\n",
        "  - Faster development & fewer bugs\n",
        "- Tools That Use API Specs:\n",
        "  - Swagger Editor – Write OpenAPI specs\n",
        "  - Postman – Import specs and test APIs\n",
        "  - FastAPI – Auto-generates OpenAPI specs\n",
        "  - Django REST Swagger – For Django REST Framework"
      ],
      "metadata": {
        "id": "uU1l31NPeNIw"
      }
    },
    {
      "cell_type": "markdown",
      "source": [
        "Q3. What is Flask, and why is it popular for building APIs?\n",
        "- What is Flask?\n",
        "  - A lightweight Python web framework\n",
        "  - Used to build web applications and RESTful APIs\n",
        "  - Built on top of Werkzeug (WSGI toolkit) and Jinja2 (template engine)\n",
        "  - Minimal by design — add only the components you need\n",
        "- Why is Flask Popular for Building APIs?\n",
        "  - Lightweight and minimal — ideal for quick API development\n",
        "  - Easy to learn — beginner-friendly syntax and structure\n",
        "  - Highly flexible — no strict conventions or rules\n",
        "  - Extensible — easy to add plugins like authentication, database, etc.\n",
        "  - Fast for prototyping — build and test ideas quickly\n",
        "  - Strong community support — widely adopted with lots of resources\n",
        "  - Integrates with API documentation tools — like Swagger/OpenAPI\n",
        "  - Suitable for microservices due to its simplicity and modularity\n",
        "- Common Use Cases\n",
        "  - REST APIs for web and mobile applications\n",
        "  - Backend for dashboards or admin panels\n",
        "  - Serving machine learning models\n",
        "  - Rapid MVP or proof-of-concept development\n",
        "  - Microservices architecture"
      ],
      "metadata": {
        "id": "zisDG4EdeNGQ"
      }
    },
    {
      "cell_type": "markdown",
      "source": [
        "Q4. What is routing in Flask?\n",
        "- Definition:\n",
        "  - Routing in Flask refers to mapping a URL (or endpoint) to a specific Python function that should handle the request.\n",
        "  - Each route defines:\n",
        "    - The URL path\n",
        "    - The HTTP method (GET, POST, etc.)\n",
        "    - The function that runs when that route is accessed\n",
        "- How It Works:\n",
        "  - In Flask, you use the @app.route() decorator to define a route.\n"
      ],
      "metadata": {
        "id": "SRfVLbe0eM-w"
      }
    },
    {
      "cell_type": "markdown",
      "source": [
        "Q5. How do you create a simple Flask application?\n",
        "- Steps\n",
        "  - Flask(__name__) creates the app object\n",
        "  - @app.route('/') defines a route (URL endpoint)\n",
        "  - The function below the route returns the response\n",
        "  - app.run(debug=True) starts a local server with auto-reload\n"
      ],
      "metadata": {
        "id": "DBecqphAlLUI"
      }
    },
    {
      "cell_type": "markdown",
      "source": [
        "Q6. What are HTTP methods used in RESTful APIs?\n",
        "- In a RESTful API, HTTP methods define the type of operation to perform on resources (data).\n",
        "- Common HTTP Methods:\n",
        "1. GET\n",
        "  - Purpose: Retrieve data (read-only)\n",
        "  - Safe: Does not change anything on the server\n",
        "2. POST\n",
        "  - Purpose: Create a new resource\n",
        "  - Sends: Data in the request body (usually JSON)\n",
        "3. PUT\n",
        "  - Purpose: Fully update an existing resource\n",
        "  - Replaces: The entire resource\n",
        "4. PATCH\n",
        "  - Purpose: Partially update an existing resource\n",
        "  - Changes: Only specific fields\n",
        "5. DELETE\n",
        "  - Purpose: Remove a resource"
      ],
      "metadata": {
        "id": "gsy1fFvvnEKY"
      }
    },
    {
      "cell_type": "markdown",
      "source": [
        "Q7. What is the purpose of the @app.route() decorator in Flask?\n",
        "- Definition:\n",
        "  - The @app.route() decorator in Flask is used to bind a URL (route) to a Python function. That function becomes the view function responsible for handling requests to that route.\n",
        "- Purpose:\n",
        "  - Maps a URL path to a specific function\n",
        "  - Defines how Flask should respond when a user visits that URL\n",
        "  - Can specify HTTP methods (e.g., GET, POST) to handle different types of requests"
      ],
      "metadata": {
        "id": "tgisNZAfngCg"
      }
    },
    {
      "cell_type": "markdown",
      "source": [
        "Q8. What is the difference between GET and POST HTTP methods?\n",
        "- GET\n",
        "  - Purpose: Retrieve data from the server\n",
        "  - Data Location: Sent in the URL as query parameters\n",
        "  - Visible: Data is visible in the browser’s address bar\n",
        "  - Cacheable: Yes — browsers can cache GET requests\n",
        "  - Idempotent: Yes — multiple identical GET requests produce the same result\n",
        "- POST\n",
        "  - Purpose: Send data to the server to create or process something\n",
        "  - Data Location: Sent in the request body (not visible in URL)\n",
        "  - Visible: Data is not visible in the browser's address bar\n",
        "  - Cacheable: No — browsers usually do not cache POST requests\n",
        "  - Idempotent: No — multiple identical POSTs may create duplicates\n",
        "  - Use Case: Creating new data (e.g., sign-up form, new blog post)\n"
      ],
      "metadata": {
        "id": "K59D53AEn5go"
      }
    },
    {
      "cell_type": "markdown",
      "source": [
        "Q9. How do you handle errors in Flask APIs?\n",
        "- In Flask APIs, error handling ensures that the application returns meaningful responses when something goes wrong, instead of crashing or returning generic errors.\n",
        "- Methods for Handling Errors in Flask\n",
        "  1. Using abort()\n",
        "    - Immediately stops request processing and returns an HTTP error code.\n",
        "  2. Using try-except Blocks\n",
        "    - Catch Python exceptions and return custom responses.\n",
        "  3. Custom Error Handlers with @app.errorhandler()\n",
        "    - Handle specific HTTP or application errors globally.\n",
        "- Common HTTP Error Codes in APIs\n",
        "  - 400: Bad Request\n",
        "  - 401:\tUnauthorized\n",
        "  - 403:\tForbidden\n",
        "  - 404:\tNot Found\n",
        "  - 405:\tMethod Not Allowed\n",
        "  - 500:\tInternal Server Error"
      ],
      "metadata": {
        "id": "qyr6W1i3oLiX"
      }
    },
    {
      "cell_type": "markdown",
      "source": [
        "Q10. How do you connect Flask to a SQL database?\n",
        "- Common Approach: Use Flask + SQLAlchemy\n",
        "SQLAlchemy is a popular ORM (Object Relational Mapper) that lets you interact with SQL databases using Python classes.\n",
        "- Steps:\n",
        "  - Install packages: Flask, Flask-SQLAlchemy\n",
        "  - Set DB URI:\tUse app.config['SQLALCHEMY_DATABASE_URI']\n",
        "  - Define models:\tSubclass db.Model\n",
        "  - Create tables:\tdb.create_all()\n",
        "  - Use sessions:\tAdd/commit with db.session"
      ],
      "metadata": {
        "id": "STqtSVqfpU_A"
      }
    },
    {
      "cell_type": "markdown",
      "source": [
        "Q11. What is the role of Flask-SQLAlchemy?\n",
        "- Definition:\n",
        "  - Flask-SQLAlchemy is an extension for Flask that integrates SQLAlchemy (Python’s most popular Object Relational Mapper, or ORM) with Flask.\n",
        "  - It simplifies the process of working with SQL databases (like SQLite, PostgreSQL, MySQL) by letting you use Python classes to interact with database tables.\n",
        "- Key Roles of Flask-SQLAlchemy\n",
        "  - Database connection management\n",
        "    - Provides an easy way to connect Flask to SQL databases via a simple config.\n",
        "  - Model definition with classes\n",
        "    - Lets you define database tables using Python classes (ORM).\n",
        "  - Query building\n",
        "    - Write Python code to perform SQL-like queries (e.g., User.query.filter_by(...)).\n",
        "  - Schema creation\n",
        "    - Automatically creates database tables from your Python models using db.create_all().\n",
        "  - Session management\n",
        "    - Handles transactions and commits using db.session.\n",
        "- Benefits of Using Flask-SQLAlchemy\n",
        "  - Cleaner and more Pythonic than raw SQL\n",
        "  - Reduces boilerplate for connecting and managing the DB\n",
        "  - Supports complex queries and relationships (joins, foreign keys)\n",
        "  - Easier to maintain and test\n",
        "\n"
      ],
      "metadata": {
        "id": "K2Rnb_kMqjHI"
      }
    },
    {
      "cell_type": "markdown",
      "source": [
        "Q12. What are Flask blueprints, and how are they useful?\n",
        "- Definition:\n",
        "  - A Flask Blueprint is a way to organize a Flask application into reusable components or modules.\n",
        "  - Instead of defining all routes and logic in a single file (app.py), Blueprints let you split your app into smaller, modular files — especially useful for larger applications.\n",
        "- Why Use Blueprints?\n",
        "  - Modular structure — separate code by feature (e.g., auth, users, blog)\n",
        "  - Reusability — reuse routes and logic across different projects\n",
        "  - Maintainability — easier to read and manage large apps\n",
        "  - Scalability — add new features without cluttering the main app"
      ],
      "metadata": {
        "id": "DzesdJXPrH2o"
      }
    },
    {
      "cell_type": "markdown",
      "source": [
        "Q13. What is the purpose of Flasks request object?\n",
        "- Definition:\n",
        "  - In Flask, the request object gives you access to incoming HTTP request data — everything the client (browser, app, etc.) sends to your server.\n",
        "  - It is provided by Flask and is available globally (you don’t need to pass it around).\n",
        "- Purpose of request Object\n",
        "  - Purpose\tDescription\n",
        "  - Access form data\tData submitted via HTML forms (POST)\n",
        "  - Read JSON payloads\tJSON body sent in requests (common in APIs)\n",
        "  - Get query parameters\tURL parameters (e.g., ?id=5)\n",
        "  - Read headers\tRequest headers like Content-Type, Authorization\n",
        "  - Access HTTP method\tKnow if it's GET, POST, etc.\n",
        "  - Get file uploads\tRetrieve files uploaded in the request\n",
        "  - Check cookies\tAccess client-side cookies sent to server"
      ],
      "metadata": {
        "id": "BUeihRv9raQ_"
      }
    },
    {
      "cell_type": "markdown",
      "source": [
        "Q14. How do you create a RESTful API endpoint using Flask?\n",
        "- Steps\n",
        "  - Use @app.route() to define endpoints\n",
        "  - Use request.get_json() to access incoming data\n",
        "  - Return responses using jsonify()\n",
        "  - Use HTTP methods to follow RESTful conventions"
      ],
      "metadata": {
        "id": "eisOEd8grvwb"
      }
    },
    {
      "cell_type": "markdown",
      "source": [
        "Q15. What is the purpose of Flask's jsonify() function?\n",
        "- Definition:\n",
        "  - jsonify() is a Flask utility function that converts Python data (like dictionaries or lists) into a JSON-formatted HTTP response.\n",
        "  - It’s the standard way to return JSON from a Flask API.\n",
        "- Purpose of jsonify()\n",
        "  - Converts Python objects → JSON\n",
        "  - Sets the correct Content-Type: application/json in the response headers\n",
        "  - Ensures correct encoding, escaping, and serialization\n",
        "  - Returns a proper Flask Response object (unlike just using json.dumps())\n",
        "\n"
      ],
      "metadata": {
        "id": "sqYe3p1TtKRQ"
      }
    },
    {
      "cell_type": "markdown",
      "source": [
        "Q16. Explain Flask's url_for() function.\n",
        "- Definition:\n",
        "  - url_for() is a Flask helper function used to dynamically build URLs for a given view function by its name.\n",
        "  - It ensures that URLs are generated correctly, even if route paths change later.\n",
        "- Purpose of url_for()\n",
        "  - Generates URLs dynamically based on function names, not hardcoded paths\n",
        "  - Makes code more maintainable and less error-prone\n",
        "  - Can also build URLs with query parameters or dynamic path values"
      ],
      "metadata": {
        "id": "_mk3a5KBtfI4"
      }
    },
    {
      "cell_type": "markdown",
      "source": [
        "Q17. How does Flask handle static files (CSS, JavaScript, etc.)?\n",
        "- Folder name\tstatic/ (default location)\n",
        "- Access in template\turl_for('static', filename='...')\n",
        "- File types supported\tCSS, JS, images, fonts, etc.\n",
        "- Auto routing\tFlask handles /static/<filename>\n",
        "- Custom static folder\tCan be changed via Flask(..., static_folder='...')"
      ],
      "metadata": {
        "id": "Izw1k6yqtzAv"
      }
    },
    {
      "cell_type": "markdown",
      "source": [
        "Q18. What is an API specification, and how does it help in building a Flask API?\n",
        "- An API specification is a formal, structured description of how an API behaves — including:\n",
        "  - Available endpoints\n",
        "  - HTTP methods (GET, POST, PUT, DELETE, etc.)\n",
        "  - Request and response formats\n",
        "  - Authentication rules\n",
        "  - Error responses\n",
        "  - Data schemas\n",
        "  - It's like a contract between the backend and consumers (frontend, mobile, external developers).\n",
        "- Common Specification Formats\n",
        "  - OpenAPI (Swagger) – most widely used\n",
        "  - RAML, API Blueprint – other alternatives\n",
        "- How It Helps in Building a Flask API\n",
        "  -  Standardization: Ensures consistent design across endpoints\n",
        "  -  Documentation: Auto-generates readable API docs (e.g., Swagger UI)\n",
        "  -  Validation: Helps validate request/response formats\n",
        "  -  Mocking: Enables frontend teams to develop independently using mocked endpoints\n",
        "  -  Code Generation: Can generate boilerplate server/client code automatically\n",
        "  -  Testing: Helps automate API testing based on defined specs\n",
        "  -  Collaboration: Aligns backend, frontend, and external API users"
      ],
      "metadata": {
        "id": "VlVYf3qlug_n"
      }
    },
    {
      "cell_type": "markdown",
      "source": [
        "Q19. What are HTTP status codes, and why are they important in a Flask API?\n",
        "- What Are HTTP Status Codes?\n",
        "HTTP status codes are three-digit numbers returned by a server in response to a client’s request.\n",
        "They indicate the result of the HTTP operation — success, failure, redirection, etc. Each response from a Flask API should include the correct status code to clearly communicate the outcome.\n",
        "- Common Status Code Categories\n",
        "  - 1xx:\t100–199\tInformational\n",
        "  - 2xx:\t200–299\tSuccess\n",
        "  - 3xx:\t300–399\tRedirection\n",
        "  - 4xx:\t400–499\tClient-side errors\n",
        "  - 5xx:\t500–599\tServer-side errors\n",
        "- Why They Are Important\n",
        "  -  Helps clients understand the result of their request\n",
        "\n",
        "  -  Enables better error handling in frontend/mobile apps\n",
        "\n",
        "  -  Follows RESTful API standards\n",
        "\n",
        "  -  Makes APIs easier to debug and maintain\n",
        "\n",
        "  -  Required for automated testing and monitoring tools\n",
        "\n"
      ],
      "metadata": {
        "id": "leivdA3mDHK2"
      }
    },
    {
      "cell_type": "markdown",
      "source": [
        "Q20. How do you handle POST requests in Flask?\n",
        "- What Is a POST Request?\n",
        "  - A POST request is used to send data to the server (e.g., create a new resource).\n",
        "  - Commonly used with forms, JSON payloads, or file uploads.\n",
        "- Flask Route Handling POST:\n",
        "  - Defining the route with methods=['POST']\n",
        "  - Accessing data via request.form, request.json, or request.get_json()\n",
        "- Common Request Data Access Methods\n",
        "  - JSON\trequest.get_json()\n",
        "  - Form\trequest.form['key']\n",
        "  - URL Params\trequest.args['key']\n",
        "  - Headers\trequest.headers['key']\n",
        "  - Files\trequest.files['file']\n",
        "- Best Practices\n",
        "  - Always validate incoming data\n",
        "  - Return appropriate HTTP status codes (201, 400, etc.)\n",
        "  - Use jsonify() for structured responses\n",
        "  - Secure endpoints with auth if needed\n",
        "\n"
      ],
      "metadata": {
        "id": "TxEyD5l3Eb_a"
      }
    },
    {
      "cell_type": "markdown",
      "source": [
        "Q21. How would you secure a Flask API?\n",
        "- Securing a Flask API is critical to protect data, prevent unauthorized access, and ensure safe communication between client and server.\n",
        "- Key Methods to Secure a Flask API\n",
        "1. Authentication & Authorization\n",
        "  - Token-based Auth: Use JWT (JSON Web Tokens) or OAuth2\n",
        "  - API Keys: Issue and verify API keys for each client\n",
        "  - Session-based Auth: For web apps, use Flask-Login or similar\n",
        "2. HTTPS (TLS)\n",
        "  - Always serve your API over https:// to encrypt data in transit\n",
        "  - Use certificates (e.g., via Let’s Encrypt)\n",
        "3. Input Validation & Sanitization\n",
        "  - Validate all user input (e.g., using marshmallow, pydantic)\n",
        "  - Prevent injection attacks (SQL injection, XSS)\n",
        "4. Rate Limiting\n",
        "  - Prevent abuse or brute force using Flask extensions like:\n",
        "  - Flask-Limiter for per-IP or per-user rate limits\n",
        "5. CORS (Cross-Origin Resource Sharing)\n",
        "  - Use Flask-CORS to explicitly allow trusted domains\n",
        "    ```\n",
        "from flask_cors import CORS\n",
        "CORS(app, resources={r\"/api/*\": {\"origins\": \"https://mydomain.com\"}})\n",
        "\n",
        "    ```\n",
        "6. Error Handling\n",
        "  - Never expose raw error messages or stack traces\n",
        "  - Use custom error pages and log exceptions securely\n",
        "7. Secure Database Access\n",
        "  - Use parameterized queries to prevent SQL injection\n",
        "  - Do not expose sensitive DB info in error messages\n",
        "8. Environment Management\n",
        "  - Keep secret keys, tokens, and DB passwords in .env files\n",
        "  - Use python-dotenv or environment variables to manage them\n",
        "9. Logging & Monitoring\n",
        "  - Log API activity for auditing and anomaly detection\n",
        "  - Monitor for failed logins, 403s, 500s, etc.\n",
        "10. Disable Debug Mode in Production\n",
        "    ```\n",
        "if __name__ == \"__main__\":\n",
        "    app.run(debug=False)\n",
        "\n",
        "    ```"
      ],
      "metadata": {
        "id": "-LCBMq44FO1c"
      }
    },
    {
      "cell_type": "markdown",
      "source": [
        "Q22. What is the significance of the Flask-RESTful extension?\n",
        "- Flask-RESTful is an extension for Flask that simplifies the creation of RESTful APIs by:\n",
        "  - Organizing endpoints using classes and resources\n",
        "  - Adding support for HTTP methods like GET, POST, PUT, DELETE\n",
        "  - Providing tools for request parsing, error handling, and response formatting\n",
        "- Key Features & Significance\n",
        "  1. Class-Based Resource Handling\n",
        "    - Use Resource classes instead of writing multiple @app.route() decorators\n",
        "  2. Cleaner Code Organization\n",
        "    - Keeps your API logic modular, reusable, and maintainable\n",
        "    - Each endpoint maps to a class, not just a function\n",
        "  3. Built-in Request Parsing\n",
        "    - reqparse helps validate and parse incoming request data\n",
        "  4. Automatic HTTP Method Binding\n",
        "    - Easily handle GET, POST, PUT, DELETE in one place\n",
        "  5. Integrated with Flask App\n",
        "  6. Standard Response Format\n",
        "    - Returns responses as application/json by default\n",
        "    - Easy to extend with custom status codes and headers\n",
        "  7. Improved Error Handling\n",
        "    - Provides a global error handler\n",
        "    - Automatically returns 400/404/500 based on exception types\n",
        "- When to Use Flask-RESTful\n",
        "  - Use Flask-RESTful if:\n",
        "  - You're building a medium to large API with multiple endpoints\n",
        "  - You want a class-based, organized structure\n",
        "  - You prefer rapid development with built-in validation and clean routing"
      ],
      "metadata": {
        "id": "PWLWxXQpGv8G"
      }
    },
    {
      "cell_type": "markdown",
      "source": [
        "Q23. What is the role of Flask's session object?\n",
        "-  What Is the session Object?\n",
        "  - Flask's session object is used to store data across requests for a specific user.\n",
        "  - It allows you to keep track of user-specific information (e.g., login state, preferences) between different HTTP requests.\n",
        "-  Key Characteristics\n",
        "  - Client-side sessions: Data is stored in a secure cookie in the user's browser.\n",
        "  - Signed (not encrypted): Flask signs session cookies using a SECRET_KEY to prevent tampering.\n",
        "  - Data is available per user until the session ends or the data is cleared.\n",
        "-  Common Use Cases\n",
        "  - User authentication\n",
        "  - Storing preferences or temporary values\n",
        "  - Tracking user progress in forms or workflows\n",
        "-  How It Works\n",
        "  - session['key'] = value → stores data\n",
        "  - session.get('key') → retrieves data safely\n",
        "  - session.pop('key') → removes a key\n",
        "  - Requires a SECRET_KEY to ensure the cookie cannot be tampered with\n",
        "-  Data Storage\n",
        "  - The session data is stored client-side in a browser cookie.\n",
        "  - Flask signs (but does not encrypt) the data, so users can view it but cannot modify it.\n",
        "-  Security Notes\n",
        "  - Always set a strong SECRET_KEY\n",
        "  - Avoid storing sensitive data (like passwords) in the session\n",
        "  - Use HTTPS to prevent session cookie interception"
      ],
      "metadata": {
        "id": "sgBYG49AHvO_"
      }
    },
    {
      "cell_type": "markdown",
      "source": [
        "# Practical Questions"
      ],
      "metadata": {
        "id": "beOgw5oIIoB0"
      }
    },
    {
      "cell_type": "markdown",
      "source": [
        "Q1. How do you create a basic Flask application?"
      ],
      "metadata": {
        "id": "FQnTdZW1ZEiy"
      }
    },
    {
      "cell_type": "code",
      "source": [
        "from flask import Flask\n",
        "\n",
        "app = Flask(__name__)\n",
        "\n",
        "@app.route('/')\n",
        "def hello_world():\n",
        "    return 'Hello, World!'\n",
        "\n",
        "if __name__ == '__main__':\n",
        "    app.run()"
      ],
      "metadata": {
        "id": "9PjGsaWBmTRg",
        "colab": {
          "base_uri": "https://localhost:8080/"
        },
        "outputId": "7e649e8d-e5a7-4b01-f107-4f05e823ddfa"
      },
      "execution_count": 3,
      "outputs": [
        {
          "output_type": "stream",
          "name": "stdout",
          "text": [
            " * Serving Flask app '__main__'\n",
            " * Debug mode: off\n"
          ]
        },
        {
          "output_type": "stream",
          "name": "stderr",
          "text": [
            "INFO:werkzeug:\u001b[31m\u001b[1mWARNING: This is a development server. Do not use it in a production deployment. Use a production WSGI server instead.\u001b[0m\n",
            " * Running on http://127.0.0.1:5000\n",
            "INFO:werkzeug:\u001b[33mPress CTRL+C to quit\u001b[0m\n"
          ]
        }
      ]
    },
    {
      "cell_type": "markdown",
      "source": [
        "Q2. How do you serve static files like images or CSS in Flask?"
      ],
      "metadata": {
        "id": "VCyldXzvZbOo"
      }
    },
    {
      "cell_type": "code",
      "source": [
        "from flask import Flask, render_template\n",
        "\n",
        "app = Flask(__name__)\n",
        "\n",
        "@app.route('/')\n",
        "def home():\n",
        "    return render_template(\"index.html\")\n",
        "\n",
        "if __name__ == '__main__':\n",
        "    app.run(debug=True)\n"
      ],
      "metadata": {
        "colab": {
          "base_uri": "https://localhost:8080/"
        },
        "id": "_BybdNaoCdtM",
        "outputId": "1383a125-935c-4bd8-d0cb-8008a6fdc2e5"
      },
      "execution_count": 4,
      "outputs": [
        {
          "output_type": "stream",
          "name": "stdout",
          "text": [
            " * Serving Flask app '__main__'\n",
            " * Debug mode: on\n"
          ]
        },
        {
          "output_type": "stream",
          "name": "stderr",
          "text": [
            "INFO:werkzeug:\u001b[31m\u001b[1mWARNING: This is a development server. Do not use it in a production deployment. Use a production WSGI server instead.\u001b[0m\n",
            " * Running on http://127.0.0.1:5000\n",
            "INFO:werkzeug:\u001b[33mPress CTRL+C to quit\u001b[0m\n",
            "INFO:werkzeug: * Restarting with stat\n"
          ]
        }
      ]
    },
    {
      "cell_type": "markdown",
      "source": [
        "Q3. How do you define different routes with different HTTP methods in Flask?"
      ],
      "metadata": {
        "id": "apuzpRHvZuSz"
      }
    },
    {
      "cell_type": "code",
      "source": [
        "from flask import Flask, request, jsonify\n",
        "\n",
        "app = Flask(__name__)\n",
        "\n",
        "users = {\n",
        "    1: {\"name\": \"Ajay\"},\n",
        "    2: {\"name\": \"Vijay\"}\n",
        "}\n",
        "\n",
        "@app.route('/users/<int:user_id>', methods=['GET', 'PUT', 'DELETE'])\n",
        "def user_operations(user_id):\n",
        "    if request.method == 'GET':\n",
        "        user = users.get(user_id)\n",
        "        if user:\n",
        "            return jsonify(user)\n",
        "        else:\n",
        "            return jsonify({\"error\": \"User not found\"}), 404\n",
        "\n",
        "    elif request.method == 'PUT':\n",
        "        data = request.get_json()\n",
        "        if \"name\" in data:\n",
        "            users[user_id] = {\"name\": data[\"name\"]}\n",
        "            return jsonify({\"message\": \"User updated\", \"user\": users[user_id]})\n",
        "        return jsonify({\"error\": \"Invalid input\"}), 400\n",
        "\n",
        "    elif request.method == 'DELETE':\n",
        "        if user_id in users:\n",
        "            del users[user_id]\n",
        "            return jsonify({\"message\": \"User deleted\"})\n",
        "        else:\n",
        "            return jsonify({\"error\": \"User not found\"}), 404\n",
        "\n",
        "@app.route('/users', methods=['POST'])\n",
        "def create_user():\n",
        "    data = request.get_json()\n",
        "    if \"name\" not in data:\n",
        "        return jsonify({\"error\": \"Name is required\"}), 400\n",
        "\n",
        "    new_id = max(users.keys()) + 1\n",
        "    users[new_id] = {\"name\": data[\"name\"]}\n",
        "    return jsonify({\"message\": \"User created\", \"user\": users[new_id]}), 201\n",
        "\n",
        "if __name__ == '__main__':\n",
        "    app.run(debug=True)\n"
      ],
      "metadata": {
        "colab": {
          "base_uri": "https://localhost:8080/"
        },
        "id": "d_1Pp9LVZ9Oh",
        "outputId": "4a0a7fbf-067d-4cc7-86b3-648c5d2340b4"
      },
      "execution_count": 5,
      "outputs": [
        {
          "output_type": "stream",
          "name": "stdout",
          "text": [
            " * Serving Flask app '__main__'\n",
            " * Debug mode: on\n"
          ]
        },
        {
          "output_type": "stream",
          "name": "stderr",
          "text": [
            "INFO:werkzeug:\u001b[31m\u001b[1mWARNING: This is a development server. Do not use it in a production deployment. Use a production WSGI server instead.\u001b[0m\n",
            " * Running on http://127.0.0.1:5000\n",
            "INFO:werkzeug:\u001b[33mPress CTRL+C to quit\u001b[0m\n",
            "INFO:werkzeug: * Restarting with stat\n"
          ]
        }
      ]
    },
    {
      "cell_type": "markdown",
      "source": [
        "Q4. How do you render HTML templates in Flask?"
      ],
      "metadata": {
        "id": "E5-NbvIJZ8iD"
      }
    },
    {
      "cell_type": "code",
      "source": [
        "from flask import Flask, render_template\n",
        "\n",
        "app = Flask(__name__)\n",
        "\n",
        "@app.route('/')\n",
        "def home():\n",
        "    return render_template('index.html', name='Siddharth')\n",
        "\n",
        "if __name__ == '__main__':\n",
        "    app.run(debug=True)\n"
      ],
      "metadata": {
        "colab": {
          "base_uri": "https://localhost:8080/"
        },
        "id": "g57EPBhSCdxE",
        "outputId": "9c05811d-ef14-44c0-b72d-1591db4b898e"
      },
      "execution_count": 6,
      "outputs": [
        {
          "output_type": "stream",
          "name": "stdout",
          "text": [
            " * Serving Flask app '__main__'\n",
            " * Debug mode: on\n"
          ]
        },
        {
          "output_type": "stream",
          "name": "stderr",
          "text": [
            "INFO:werkzeug:\u001b[31m\u001b[1mWARNING: This is a development server. Do not use it in a production deployment. Use a production WSGI server instead.\u001b[0m\n",
            " * Running on http://127.0.0.1:5000\n",
            "INFO:werkzeug:\u001b[33mPress CTRL+C to quit\u001b[0m\n",
            "INFO:werkzeug: * Restarting with stat\n"
          ]
        }
      ]
    },
    {
      "cell_type": "markdown",
      "source": [
        "Q5. How can you generate URLs for routes in Flask using url_for?"
      ],
      "metadata": {
        "id": "QQVh1MX0bSDf"
      }
    },
    {
      "cell_type": "code",
      "source": [
        "from flask import Flask, url_for, redirect\n",
        "\n",
        "app = Flask(__name__)\n",
        "\n",
        "@app.route('/')\n",
        "def home():\n",
        "    return \"This is the home page.\"\n",
        "\n",
        "@app.route('/user/<username>')\n",
        "def profile(username):\n",
        "    return f\"Profile page of {username}\"\n",
        "\n",
        "@app.route('/go-to-profile')\n",
        "def go_to_profile():\n",
        "    return redirect(url_for('profile', username='siddharth'))\n",
        "\n",
        "if __name__ == '__main__':\n",
        "    app.run(debug=True)\n"
      ],
      "metadata": {
        "colab": {
          "base_uri": "https://localhost:8080/"
        },
        "id": "yCVWVApLbfxC",
        "outputId": "21e112f9-a572-45f8-af72-3273dca51723"
      },
      "execution_count": 7,
      "outputs": [
        {
          "output_type": "stream",
          "name": "stdout",
          "text": [
            " * Serving Flask app '__main__'\n",
            " * Debug mode: on\n"
          ]
        },
        {
          "output_type": "stream",
          "name": "stderr",
          "text": [
            "INFO:werkzeug:\u001b[31m\u001b[1mWARNING: This is a development server. Do not use it in a production deployment. Use a production WSGI server instead.\u001b[0m\n",
            " * Running on http://127.0.0.1:5000\n",
            "INFO:werkzeug:\u001b[33mPress CTRL+C to quit\u001b[0m\n",
            "INFO:werkzeug: * Restarting with stat\n"
          ]
        }
      ]
    },
    {
      "cell_type": "markdown",
      "source": [
        "Q6. How do you handle forms in Flask?"
      ],
      "metadata": {
        "id": "ZfsNb6hVbi4O"
      }
    },
    {
      "cell_type": "code",
      "source": [
        "from flask import Flask, request, render_template\n",
        "\n",
        "app = Flask(__name__)\n",
        "\n",
        "@app.route('/')\n",
        "def index():\n",
        "    return render_template('form.html')\n",
        "\n",
        "@app.route('/submit', methods=['POST'])\n",
        "def submit():\n",
        "    username = request.form['username']\n",
        "    return f\"Hello, {username}!\"\n",
        "\n",
        "if __name__ == '__main__':\n",
        "    app.run(debug=True)\n"
      ],
      "metadata": {
        "colab": {
          "base_uri": "https://localhost:8080/"
        },
        "id": "IwXl2a4jbp1H",
        "outputId": "58fae12b-7fc2-4469-f421-8242f1d942cc"
      },
      "execution_count": 8,
      "outputs": [
        {
          "output_type": "stream",
          "name": "stdout",
          "text": [
            " * Serving Flask app '__main__'\n",
            " * Debug mode: on\n"
          ]
        },
        {
          "output_type": "stream",
          "name": "stderr",
          "text": [
            "INFO:werkzeug:\u001b[31m\u001b[1mWARNING: This is a development server. Do not use it in a production deployment. Use a production WSGI server instead.\u001b[0m\n",
            " * Running on http://127.0.0.1:5000\n",
            "INFO:werkzeug:\u001b[33mPress CTRL+C to quit\u001b[0m\n",
            "INFO:werkzeug: * Restarting with stat\n"
          ]
        }
      ]
    },
    {
      "cell_type": "markdown",
      "source": [
        "Q7. How can you validate form data in Flask?"
      ],
      "metadata": {
        "id": "X54k_2YRbsPu"
      }
    },
    {
      "cell_type": "code",
      "source": [
        "from flask import Flask, request, render_template_string\n",
        "\n",
        "app = Flask(__name__)\n",
        "\n",
        "form_html = '''\n",
        "<form method=\"POST\" action=\"/submit\">\n",
        "    <input name=\"email\" type=\"email\" required>\n",
        "    <input type=\"submit\">\n",
        "</form>\n",
        "'''\n",
        "\n",
        "@app.route('/')\n",
        "def index():\n",
        "    return render_template_string(form_html)\n",
        "\n",
        "@app.route('/submit', methods=['POST'])\n",
        "def submit():\n",
        "    email = request.form.get('email')\n",
        "    if not email or '@' not in email:\n",
        "        return \"Invalid email\", 400\n",
        "    return f\"Email received: {email}\"\n",
        "\n",
        "if __name__ == '__main__':\n",
        "    app.run(debug=True)\n"
      ],
      "metadata": {
        "colab": {
          "base_uri": "https://localhost:8080/"
        },
        "id": "KRZKCxW-cFyf",
        "outputId": "14359924-42ef-411b-dc71-3808059c2e32"
      },
      "execution_count": 9,
      "outputs": [
        {
          "output_type": "stream",
          "name": "stdout",
          "text": [
            " * Serving Flask app '__main__'\n",
            " * Debug mode: on\n"
          ]
        },
        {
          "output_type": "stream",
          "name": "stderr",
          "text": [
            "INFO:werkzeug:\u001b[31m\u001b[1mWARNING: This is a development server. Do not use it in a production deployment. Use a production WSGI server instead.\u001b[0m\n",
            " * Running on http://127.0.0.1:5000\n",
            "INFO:werkzeug:\u001b[33mPress CTRL+C to quit\u001b[0m\n",
            "INFO:werkzeug: * Restarting with stat\n"
          ]
        }
      ]
    },
    {
      "cell_type": "markdown",
      "source": [
        "Q8. How do you manage sessions in Flask?"
      ],
      "metadata": {
        "id": "GIaTXzJwcHh8"
      }
    },
    {
      "cell_type": "code",
      "source": [
        "from flask import Flask, session, redirect, url_for, request\n",
        "\n",
        "app = Flask(__name__)\n",
        "app.secret_key = 'my_secret_key'\n",
        "\n",
        "@app.route('/')\n",
        "def index():\n",
        "    if 'username' in session:\n",
        "        return f\"Logged in as {session['username']}\"\n",
        "    return \"You are not logged in.\"\n",
        "\n",
        "@app.route('/login', methods=['POST', 'GET'])\n",
        "def login():\n",
        "    if request.method == 'POST':\n",
        "        session['username'] = request.form['username']\n",
        "        return redirect(url_for('index'))\n",
        "    return '''\n",
        "        <form method=\"post\">\n",
        "            <input type=\"text\" name=\"username\">\n",
        "            <input type=\"submit\" value=\"Login\">\n",
        "        </form>\n",
        "    '''\n",
        "\n",
        "@app.route('/logout')\n",
        "def logout():\n",
        "    session.pop('username', None)\n",
        "    return redirect(url_for('index'))\n",
        "\n",
        "if __name__ == '__main__':\n",
        "    app.run(debug=True)\n"
      ],
      "metadata": {
        "colab": {
          "base_uri": "https://localhost:8080/"
        },
        "id": "6lhG_LZScPPr",
        "outputId": "55b17e02-a92c-42e6-cafd-5f1cea27395f"
      },
      "execution_count": 10,
      "outputs": [
        {
          "output_type": "stream",
          "name": "stdout",
          "text": [
            " * Serving Flask app '__main__'\n",
            " * Debug mode: on\n"
          ]
        },
        {
          "output_type": "stream",
          "name": "stderr",
          "text": [
            "INFO:werkzeug:\u001b[31m\u001b[1mWARNING: This is a development server. Do not use it in a production deployment. Use a production WSGI server instead.\u001b[0m\n",
            " * Running on http://127.0.0.1:5000\n",
            "INFO:werkzeug:\u001b[33mPress CTRL+C to quit\u001b[0m\n",
            "INFO:werkzeug: * Restarting with stat\n"
          ]
        }
      ]
    },
    {
      "cell_type": "markdown",
      "source": [
        "Q9. How do you redirect to a different route in Flask?"
      ],
      "metadata": {
        "id": "5CAq0blwcVk7"
      }
    },
    {
      "cell_type": "code",
      "source": [
        "from flask import Flask, redirect, url_for\n",
        "\n",
        "app = Flask(__name__)\n",
        "\n",
        "@app.route('/')\n",
        "def home():\n",
        "    return \"Welcome to the homepage!\"\n",
        "\n",
        "@app.route('/login')\n",
        "def login():\n",
        "    return \"Please log in.\"\n",
        "\n",
        "@app.route('/secure')\n",
        "def secure_area():\n",
        "    return redirect(url_for('login'))\n",
        "\n",
        "if __name__ == '__main__':\n",
        "    app.run(debug=True)\n"
      ],
      "metadata": {
        "colab": {
          "base_uri": "https://localhost:8080/"
        },
        "id": "5ON7CcWBckIt",
        "outputId": "b4f0f2e4-eb51-42be-9da8-8c3d260278cc"
      },
      "execution_count": 11,
      "outputs": [
        {
          "output_type": "stream",
          "name": "stdout",
          "text": [
            " * Serving Flask app '__main__'\n",
            " * Debug mode: on\n"
          ]
        },
        {
          "output_type": "stream",
          "name": "stderr",
          "text": [
            "INFO:werkzeug:\u001b[31m\u001b[1mWARNING: This is a development server. Do not use it in a production deployment. Use a production WSGI server instead.\u001b[0m\n",
            " * Running on http://127.0.0.1:5000\n",
            "INFO:werkzeug:\u001b[33mPress CTRL+C to quit\u001b[0m\n",
            "INFO:werkzeug: * Restarting with stat\n"
          ]
        }
      ]
    },
    {
      "cell_type": "markdown",
      "source": [
        "Q10. How do you handle errors in Flask (e.g., 404)?"
      ],
      "metadata": {
        "id": "d4c3mXqvcqGd"
      }
    },
    {
      "cell_type": "code",
      "source": [
        "from flask import Flask, render_template\n",
        "\n",
        "app = Flask(__name__)\n",
        "\n",
        "@app.route('/')\n",
        "def home():\n",
        "    return \"Welcome!\"\n",
        "\n",
        "# Custom 404 error page\n",
        "@app.errorhandler(404)\n",
        "def page_not_found(e):\n",
        "    return render_template('404.html'), 404\n",
        "\n",
        "if __name__ == '__main__':\n",
        "    app.run(debug=True)\n"
      ],
      "metadata": {
        "colab": {
          "base_uri": "https://localhost:8080/"
        },
        "id": "zFPJrCH0cw0l",
        "outputId": "1c636aad-2098-4d61-a1d0-d82d44ec6e17"
      },
      "execution_count": 12,
      "outputs": [
        {
          "output_type": "stream",
          "name": "stdout",
          "text": [
            " * Serving Flask app '__main__'\n",
            " * Debug mode: on\n"
          ]
        },
        {
          "output_type": "stream",
          "name": "stderr",
          "text": [
            "INFO:werkzeug:\u001b[31m\u001b[1mWARNING: This is a development server. Do not use it in a production deployment. Use a production WSGI server instead.\u001b[0m\n",
            " * Running on http://127.0.0.1:5000\n",
            "INFO:werkzeug:\u001b[33mPress CTRL+C to quit\u001b[0m\n",
            "INFO:werkzeug: * Restarting with stat\n"
          ]
        }
      ]
    },
    {
      "cell_type": "markdown",
      "source": [
        "Q11. How do you structure a Flask app using Blueprints?"
      ],
      "metadata": {
        "id": "EuP_UksVc7e3"
      }
    },
    {
      "cell_type": "code",
      "source": [
        "from flask import Flask, Blueprint\n",
        "\n",
        "auth = Blueprint('auth', __name__)\n",
        "\n",
        "@auth.route('/login')\n",
        "def login():\n",
        "    return \"Login Page\"\n",
        "\n",
        "@auth.route('/logout')\n",
        "def logout():\n",
        "    return \"Logout Page\"\n",
        "\n",
        "main = Blueprint('main', __name__)\n",
        "\n",
        "@main.route('/')\n",
        "def home():\n",
        "    return \"Home Page\"\n",
        "\n",
        "@main.route('/about')\n",
        "def about():\n",
        "    return \"About Page\"\n",
        "\n",
        "app = Flask(__name__)\n",
        "app.register_blueprint(auth, url_prefix='/auth')\n",
        "app.register_blueprint(main)\n",
        "\n",
        "if __name__ == '__main__':\n",
        "    app.run(debug=True)\n"
      ],
      "metadata": {
        "colab": {
          "base_uri": "https://localhost:8080/"
        },
        "id": "sTAqSY1NdY_k",
        "outputId": "57061bd9-b4ba-4bd4-c184-3e94dddf0eb5"
      },
      "execution_count": 13,
      "outputs": [
        {
          "output_type": "stream",
          "name": "stdout",
          "text": [
            " * Serving Flask app '__main__'\n",
            " * Debug mode: on\n"
          ]
        },
        {
          "output_type": "stream",
          "name": "stderr",
          "text": [
            "INFO:werkzeug:\u001b[31m\u001b[1mWARNING: This is a development server. Do not use it in a production deployment. Use a production WSGI server instead.\u001b[0m\n",
            " * Running on http://127.0.0.1:5000\n",
            "INFO:werkzeug:\u001b[33mPress CTRL+C to quit\u001b[0m\n",
            "INFO:werkzeug: * Restarting with stat\n"
          ]
        }
      ]
    },
    {
      "cell_type": "markdown",
      "source": [
        "Q12. How do you define a custom Jinja filter in Flask?"
      ],
      "metadata": {
        "id": "iG2nRmFadc_L"
      }
    },
    {
      "cell_type": "code",
      "source": [
        "from flask import Flask, render_template_string\n",
        "\n",
        "app = Flask(__name__)\n",
        "\n",
        "def title_case(s):\n",
        "    return s.title()\n",
        "\n",
        "app.template_filter('title_case')(title_case)\n",
        "\n",
        "@app.route('/')\n",
        "def home():\n",
        "    name = \"flask custom filter example\"\n",
        "    template = \"\"\"\n",
        "        <h2>Original: {{ name }}</h2>\n",
        "        <h2>Filtered: {{ name|title_case }}</h2>\n",
        "    \"\"\"\n",
        "    return render_template_string(template, name=name)\n",
        "\n",
        "if __name__ == '__main__':\n",
        "    app.run(debug=True)\n"
      ],
      "metadata": {
        "colab": {
          "base_uri": "https://localhost:8080/"
        },
        "id": "Ngtn7od7dhUe",
        "outputId": "5566d611-d206-454c-8c8a-8f9709c95c6e"
      },
      "execution_count": 14,
      "outputs": [
        {
          "output_type": "stream",
          "name": "stdout",
          "text": [
            " * Serving Flask app '__main__'\n",
            " * Debug mode: on\n"
          ]
        },
        {
          "output_type": "stream",
          "name": "stderr",
          "text": [
            "INFO:werkzeug:\u001b[31m\u001b[1mWARNING: This is a development server. Do not use it in a production deployment. Use a production WSGI server instead.\u001b[0m\n",
            " * Running on http://127.0.0.1:5000\n",
            "INFO:werkzeug:\u001b[33mPress CTRL+C to quit\u001b[0m\n",
            "INFO:werkzeug: * Restarting with stat\n"
          ]
        }
      ]
    },
    {
      "cell_type": "markdown",
      "source": [
        "Q13. HOW can you redirect with query parameters in Flask?"
      ],
      "metadata": {
        "id": "CcZDpTQcdnm1"
      }
    },
    {
      "cell_type": "code",
      "source": [
        "from flask import Flask, redirect, url_for, request\n",
        "\n",
        "app = Flask(__name__)\n",
        "\n",
        "@app.route('/')\n",
        "def index():\n",
        "    return redirect(url_for('search', q='flask', page=2))\n",
        "\n",
        "@app.route('/search')\n",
        "def search():\n",
        "    query = request.args.get('q')\n",
        "    page = request.args.get('page')\n",
        "    return f\"Search query: {query} | Page: {page}\"\n",
        "\n",
        "if __name__ == '__main__':\n",
        "    app.run(debug=True)\n"
      ],
      "metadata": {
        "colab": {
          "base_uri": "https://localhost:8080/"
        },
        "id": "7iQ1LLQmduyn",
        "outputId": "7546f77d-72e7-4d85-c2f9-be0ad7e00419"
      },
      "execution_count": 15,
      "outputs": [
        {
          "output_type": "stream",
          "name": "stdout",
          "text": [
            " * Serving Flask app '__main__'\n",
            " * Debug mode: on\n"
          ]
        },
        {
          "output_type": "stream",
          "name": "stderr",
          "text": [
            "INFO:werkzeug:\u001b[31m\u001b[1mWARNING: This is a development server. Do not use it in a production deployment. Use a production WSGI server instead.\u001b[0m\n",
            " * Running on http://127.0.0.1:5000\n",
            "INFO:werkzeug:\u001b[33mPress CTRL+C to quit\u001b[0m\n",
            "INFO:werkzeug: * Restarting with stat\n"
          ]
        }
      ]
    },
    {
      "cell_type": "markdown",
      "source": [
        "Q14. How do you return JSON responses in Flask?"
      ],
      "metadata": {
        "id": "CW5hoNiFdwCl"
      }
    },
    {
      "cell_type": "code",
      "source": [
        "from flask import Flask, jsonify\n",
        "\n",
        "app = Flask(__name__)\n",
        "\n",
        "@app.route('/api/data')\n",
        "def get_data():\n",
        "    data = {\n",
        "        \"name\": \"Flask\",\n",
        "        \"version\": 2.0,\n",
        "        \"status\": \"success\"\n",
        "    }\n",
        "    return jsonify(data)\n",
        "\n",
        "if __name__ == '__main__':\n",
        "    app.run(debug=True)\n"
      ],
      "metadata": {
        "colab": {
          "base_uri": "https://localhost:8080/"
        },
        "id": "VIqnsOayd9e3",
        "outputId": "f9e547e6-f20e-4c67-beea-6829e2569e26"
      },
      "execution_count": 16,
      "outputs": [
        {
          "output_type": "stream",
          "name": "stdout",
          "text": [
            " * Serving Flask app '__main__'\n",
            " * Debug mode: on\n"
          ]
        },
        {
          "output_type": "stream",
          "name": "stderr",
          "text": [
            "INFO:werkzeug:\u001b[31m\u001b[1mWARNING: This is a development server. Do not use it in a production deployment. Use a production WSGI server instead.\u001b[0m\n",
            " * Running on http://127.0.0.1:5000\n",
            "INFO:werkzeug:\u001b[33mPress CTRL+C to quit\u001b[0m\n",
            "INFO:werkzeug: * Restarting with stat\n"
          ]
        }
      ]
    },
    {
      "cell_type": "markdown",
      "source": [
        "Q15. How do you capture URL parameters in Flask?"
      ],
      "metadata": {
        "id": "33nlJMZzd-VO"
      }
    },
    {
      "cell_type": "code",
      "source": [
        "from flask import Flask\n",
        "\n",
        "app = Flask(__name__)\n",
        "\n",
        "@app.route('/user/<username>')\n",
        "def show_user(username):\n",
        "    return f\"Hello, {username}!\"\n",
        "\n",
        "if __name__ == '__main__':\n",
        "    app.run(debug=True)\n"
      ],
      "metadata": {
        "colab": {
          "base_uri": "https://localhost:8080/"
        },
        "id": "-RKiqPaeeKWQ",
        "outputId": "197f9447-cb20-4c8b-eb2f-94f51cebbffa"
      },
      "execution_count": 18,
      "outputs": [
        {
          "output_type": "stream",
          "name": "stdout",
          "text": [
            " * Serving Flask app '__main__'\n",
            " * Debug mode: on\n"
          ]
        },
        {
          "output_type": "stream",
          "name": "stderr",
          "text": [
            "INFO:werkzeug:\u001b[31m\u001b[1mWARNING: This is a development server. Do not use it in a production deployment. Use a production WSGI server instead.\u001b[0m\n",
            " * Running on http://127.0.0.1:5000\n",
            "INFO:werkzeug:\u001b[33mPress CTRL+C to quit\u001b[0m\n",
            "INFO:werkzeug: * Restarting with stat\n"
          ]
        }
      ]
    }
  ]
}